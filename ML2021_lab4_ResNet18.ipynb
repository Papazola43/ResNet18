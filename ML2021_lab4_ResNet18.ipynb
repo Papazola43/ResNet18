{
 "cells": [
  {
   "cell_type": "code",
   "execution_count": 1,
   "metadata": {},
   "outputs": [],
   "source": [
    "import torch\n",
    "import numpy as np\n",
    "import torch.nn as nn\n",
    "import torch.nn.functional as F\n",
    "import torchvision\n",
    "from torchvision import datasets, transforms\n",
    "import torch.optim as optim\n",
    "import matplotlib.pyplot as plt\n",
    "import torch.utils.data as data\n",
    "import os\n",
    "import pandas as pd\n"
   ]
  },
  {
   "cell_type": "markdown",
   "metadata": {},
   "source": [
    "# dataloader"
   ]
  },
  {
   "cell_type": "code",
   "execution_count": 2,
   "metadata": {},
   "outputs": [],
   "source": [
    "TEST_DATA_PATH = './testdata'"
   ]
  },
  {
   "cell_type": "code",
   "execution_count": 3,
   "metadata": {},
   "outputs": [],
   "source": [
    "TRAIN_DATA_PATH = './traindata'"
   ]
  },
  {
   "cell_type": "code",
   "execution_count": 4,
   "metadata": {},
   "outputs": [
    {
     "name": "stdout",
     "output_type": "stream",
     "text": [
      "Dataset ImageFolder\n",
      "    Number of datapoints: 124\n",
      "    Root location: ./traindata\n",
      "    StandardTransform\n",
      "Transform: Compose(\n",
      "               RandomRotation(degrees=[-30.0, 30.0], interpolation=nearest, expand=False, fill=0)\n",
      "               RandomHorizontalFlip(p=0.5)\n",
      "               ColorJitter(brightness=None, contrast=None, saturation=None, hue=None)\n",
      "               Resize(size=224, interpolation=bilinear)\n",
      "               ToTensor()\n",
      "           )\n",
      "{'.ipynb_checkpoints': 0, '1. cat': 1, '2. dog': 2, '3. bird': 3, '4. horse': 4, '5. car': 5, '6. airplane': 6}\n"
     ]
    }
   ],
   "source": [
    "# data transform, you can add different transform methods \n",
    "\n",
    "train_transform = transforms.Compose([\n",
    "    transforms.RandomRotation(30),\n",
    "    transforms.RandomHorizontalFlip(),\n",
    "    transforms.ColorJitter(), \n",
    "    transforms.Resize(224),\n",
    "    transforms.ToTensor()\n",
    "])\n",
    "\n",
    "dataset = datasets.ImageFolder(TRAIN_DATA_PATH, transform=train_transform)\n",
    "TOTAL_SIZE = len(dataset)\n",
    "\n",
    "# split your data into train and val\n",
    "ratio = 0.9 #90%\n",
    "train_len = round(TOTAL_SIZE * ratio)\n",
    "valid_len = round(TOTAL_SIZE * (1-ratio))\n",
    "\n",
    "train_dataset, val_dataset = torch.utils.data.random_split(dataset, [train_len, valid_len])\n",
    "\n",
    "# your setting\n",
    "train_data_loader = data.DataLoader(train_dataset, batch_size = 3, shuffle=True, num_workers = 2)\n",
    "val_data_loader = data.DataLoader(val_dataset, batch_size = 3, num_workers = 2)\n",
    "all_train = data.DataLoader(dataset, batch_size = 3, shuffle = True)\n",
    "print(dataset)\n",
    "print(dataset.class_to_idx)\n",
    "#{'cat': 0, 'dog': 1, 'bird': 2, 'house': 3, 'car': 4, 'airplane': 5}\n",
    "#{'airplane': 0, 'bird': 1, 'car': 2, 'cat': 3, 'dog': 4, 'horse': 5}"
   ]
  },
  {
   "cell_type": "code",
   "execution_count": null,
   "metadata": {},
   "outputs": [],
   "source": []
  },
  {
   "cell_type": "markdown",
   "metadata": {},
   "source": [
    "# DATALOADER FOR THE WHOLE DATA"
   ]
  },
  {
   "cell_type": "raw",
   "metadata": {},
   "source": [
    "test_transform = transforms.Compose([\n",
    "    transforms.Resize(224),\n",
    "    transforms.ToTensor()\n",
    "])\n",
    "testDataset = datasets.ImageFolder(TEST_DATA_PATH, transform = test_transform)\n",
    "testDataLoader = data.DataLoader(test_dataset, num_workers = 2)\n",
    "trainDataset = datasets.ImageFolder(TRAIN_DATA_PATH, transform = train_transform)\n",
    "trainDataset = data.DataLoader(trainDataSet, shuffle = True, batch_size = 15, num_workers = 2)"
   ]
  },
  {
   "cell_type": "code",
   "execution_count": 5,
   "metadata": {},
   "outputs": [],
   "source": [
    "# I have written the function for you this time, but it's strongly recommended that you \n",
    "# understand how to do training and validation\n",
    "\n",
    "loss_fn = nn.CrossEntropyLoss()\n",
    "\n",
    "def train(model, data_loader, optimizer, epoch, verbose=True):\n",
    "    model.train()\n",
    "    loss_avg = 0.0\n",
    "    for batch_idx, (data, target) in enumerate(data_loader):\n",
    "        data, target = data.to(device), target.to(device)\n",
    "        \n",
    "        optimizer.zero_grad()\n",
    "        output = model(data)\n",
    "        \n",
    "        # loss function\n",
    "        loss = loss_fn(output, target)\n",
    "        \n",
    "        loss_avg = loss.item()\n",
    "        \n",
    "        # do back propagation\n",
    "        loss.backward()\n",
    "        optimizer.step()\n",
    "        \n",
    "        #print\n",
    "        print('Train Epoch: {} [{}/{} ({:.0f}%)]\\tLoss: {:.6f}'.format(\n",
    "            epoch, batch_idx * len(data), len(data_loader.dataset),\n",
    "            100. * batch_idx / len(data_loader), loss.item()))\n",
    "    return loss_avg / len(data_loader)\n",
    "\n",
    "def valid(model, data_loader):\n",
    "    with torch.no_grad():\n",
    "        model.eval()\n",
    "        valid_loss = 0\n",
    "        correct = 0\n",
    "        for data, target in data_loader:\n",
    "            data, target = data.to(device), target.to(device)\n",
    "            output = model(data)\n",
    "            valid_loss +=  loss_fn(output, target) # sum up batch loss\n",
    "            pred = output.data.max(1, keepdim=True)[1] # get the index of the max log-probability\n",
    "            correct += pred.eq(target.data.view_as(pred)).cpu().sum().item() \n",
    "\n",
    "        valid_loss /= len(data_loader.dataset)\n",
    "        print('\\nValid set: Average loss: {:.4f}, Accuracy: {}/{} ({:.0f}%)\\n'.format(\n",
    "            valid_loss, correct, len(data_loader.dataset),\n",
    "            100. * correct / len(data_loader.dataset)))\n",
    "    return float(correct) / len(data_loader.dataset)"
   ]
  },
  {
   "cell_type": "code",
   "execution_count": 6,
   "metadata": {},
   "outputs": [],
   "source": [
    "class BasicBlock(nn.Module):\n",
    "    \n",
    "    def __init__(\n",
    "        self,\n",
    "        inplanes: int,\n",
    "        planes: int,\n",
    "        stride: int = 1,\n",
    "        dilation: int = 1,\n",
    "    ):\n",
    "        super(BasicBlock, self).__init__()\n",
    "        \n",
    "\n",
    "        if dilation > 1:\n",
    "            raise NotImplementedError(\"Dilation > 1 not supported in BasicBlock\")\n",
    "            \n",
    "        self.conv1 = nn.Conv2d(inplanes, planes, kernel_size=3, stride=stride, padding=1, bias=False)\n",
    "        self.norm1 = nn.BatchNorm2d(planes)\n",
    "        self.activ = nn.ReLU(inplace = True)\n",
    "        \n",
    "        self.conv2 = nn.Conv2d(planes, planes, kernel_size=3, stride=1, padding=1, bias=False)\n",
    "        self.norm2 = nn.BatchNorm2d(planes)\n",
    "        self.stride = stride\n",
    "        \n",
    "        self.shortcut = nn.Sequential()\n",
    "        if stride != 1 or inplanes != planes:\n",
    "            self.shortcut = nn.Sequential(\n",
    "                nn.Conv2d(inplanes, planes, kernel_size=1, stride=stride, bias=False),\n",
    "                nn.BatchNorm2d(planes)\n",
    "            )\n",
    "        \n",
    "    def forward(self, x):\n",
    "\n",
    "        y = self.conv1(x)\n",
    "        y = self.norm1(y)\n",
    "        y = self.activ(y)\n",
    "\n",
    "        y = self.conv2(y)\n",
    "        y = self.norm2(y)\n",
    "\n",
    "        y += self.shortcut(x)\n",
    "        y = self.activ(y)\n",
    "        return y\n",
    "            "
   ]
  },
  {
   "cell_type": "code",
   "execution_count": 7,
   "metadata": {},
   "outputs": [],
   "source": [
    "############## Build the model here ##########\n",
    "class ResNet(nn.Module):\n",
    "    def __init__(\n",
    "        self,\n",
    "        layer,\n",
    "        block,\n",
    "        num_classes=6,\n",
    "    ):\n",
    "    \n",
    "        super(ResNet, self).__init__()\n",
    "        self.inplanes = 64\n",
    "        self.conv1 = nn.Conv2d(3, 64, kernel_size=3, stride=1, padding=1, bias=False)\n",
    "        self.bn1 = nn.BatchNorm2d(64)\n",
    "        self.layer1 = self._make_layer(64, block, layer[0], stride=1)\n",
    "        self.layer2 = self._make_layer(128, block, layer[1], stride=2)\n",
    "        self.layer3 = self._make_layer(256, block, layer[2], stride=2)\n",
    "        self.layer4 = self._make_layer(512, block, layer[3], stride=2)\n",
    "        self.pool = nn.AdaptiveAvgPool2d((1, 1))\n",
    "        self.fc = nn.Linear(512, num_classes)\n",
    "        self.activ = nn.ReLU(inplace=True)\n",
    "        \n",
    "\n",
    "    def _make_layer(self, planes, block, layer, stride):\n",
    "        strides = [stride] + [1]*(layer-1)\n",
    "        layers = []\n",
    "        for stride in strides:\n",
    "            layers.append(block(self.inplanes, planes, stride)) \n",
    "            self.inplanes = planes\n",
    "        return nn.Sequential(*layers)\n",
    "    \n",
    "    def forward(self, x):\n",
    "        out = self.conv1(x)\n",
    "        out = self.bn1(out)\n",
    "        out = self.activ(out)\n",
    "        out = self.layer1(out)\n",
    "        out = self.layer2(out)\n",
    "        out = self.layer3(out)\n",
    "        out = self.layer4(out)\n",
    "        out = self.pool(out)\n",
    "        out = torch.flatten(out, 1)\n",
    "        out = self.fc(out)\n",
    "        return out\n",
    " \n"
   ]
  },
  {
   "cell_type": "code",
   "execution_count": null,
   "metadata": {},
   "outputs": [],
   "source": []
  },
  {
   "cell_type": "code",
   "execution_count": null,
   "metadata": {},
   "outputs": [],
   "source": []
  },
  {
   "cell_type": "code",
   "execution_count": 8,
   "metadata": {},
   "outputs": [
    {
     "data": {
      "text/plain": [
       "device(type='cuda')"
      ]
     },
     "execution_count": 8,
     "metadata": {},
     "output_type": "execute_result"
    }
   ],
   "source": [
    "# using gpu if available\n",
    "device = torch.device(\"cuda\" if torch.cuda.is_available() else \"cpu\")\n",
    "device"
   ]
  },
  {
   "cell_type": "code",
   "execution_count": 9,
   "metadata": {
    "scrolled": true
   },
   "outputs": [
    {
     "name": "stdout",
     "output_type": "stream",
     "text": [
      "Train Epoch: 0 [0/124 (0%)]\tLoss: 2.269256\n"
     ]
    },
    {
     "ename": "RuntimeError",
     "evalue": "CUDA error: device-side assert triggered",
     "output_type": "error",
     "traceback": [
      "\u001b[0;31m\u001b[0m",
      "\u001b[0;31mRuntimeError\u001b[0mTraceback (most recent call last)",
      "\u001b[0;32m<ipython-input-9-f767418d9de5>\u001b[0m in \u001b[0;36m<module>\u001b[0;34m\u001b[0m\n\u001b[1;32m     12\u001b[0m \u001b[0;32mfor\u001b[0m \u001b[0mepoch\u001b[0m \u001b[0;32min\u001b[0m \u001b[0mrange\u001b[0m\u001b[0;34m(\u001b[0m\u001b[0mepochs\u001b[0m\u001b[0;34m)\u001b[0m\u001b[0;34m:\u001b[0m\u001b[0;34m\u001b[0m\u001b[0;34m\u001b[0m\u001b[0m\n\u001b[1;32m     13\u001b[0m     \u001b[0;31m#model.train()\u001b[0m\u001b[0;34m\u001b[0m\u001b[0;34m\u001b[0m\u001b[0;34m\u001b[0m\u001b[0m\n\u001b[0;32m---> 14\u001b[0;31m     \u001b[0mtrain\u001b[0m\u001b[0;34m(\u001b[0m\u001b[0mmodel\u001b[0m\u001b[0;34m,\u001b[0m \u001b[0mall_train\u001b[0m\u001b[0;34m,\u001b[0m \u001b[0moptimizer\u001b[0m\u001b[0;34m,\u001b[0m \u001b[0mepoch\u001b[0m\u001b[0;34m)\u001b[0m\u001b[0;34m\u001b[0m\u001b[0;34m\u001b[0m\u001b[0m\n\u001b[0m\u001b[1;32m     15\u001b[0m     \u001b[0maccuracy\u001b[0m \u001b[0;34m=\u001b[0m \u001b[0mvalid\u001b[0m\u001b[0;34m(\u001b[0m\u001b[0mmodel\u001b[0m\u001b[0;34m,\u001b[0m \u001b[0mval_data_loader\u001b[0m\u001b[0;34m)\u001b[0m\u001b[0;34m\u001b[0m\u001b[0;34m\u001b[0m\u001b[0m\n\u001b[1;32m     16\u001b[0m     \u001b[0mx_axis\u001b[0m\u001b[0;34m.\u001b[0m\u001b[0mappend\u001b[0m\u001b[0;34m(\u001b[0m\u001b[0mepoch\u001b[0m\u001b[0;34m)\u001b[0m\u001b[0;34m\u001b[0m\u001b[0;34m\u001b[0m\u001b[0m\n",
      "\u001b[0;32m<ipython-input-5-4133cc7cc954>\u001b[0m in \u001b[0;36mtrain\u001b[0;34m(model, data_loader, optimizer, epoch, verbose)\u001b[0m\n\u001b[1;32m     16\u001b[0m         \u001b[0mloss\u001b[0m \u001b[0;34m=\u001b[0m \u001b[0mloss_fn\u001b[0m\u001b[0;34m(\u001b[0m\u001b[0moutput\u001b[0m\u001b[0;34m,\u001b[0m \u001b[0mtarget\u001b[0m\u001b[0;34m)\u001b[0m\u001b[0;34m\u001b[0m\u001b[0;34m\u001b[0m\u001b[0m\n\u001b[1;32m     17\u001b[0m \u001b[0;34m\u001b[0m\u001b[0m\n\u001b[0;32m---> 18\u001b[0;31m         \u001b[0mloss_avg\u001b[0m \u001b[0;34m=\u001b[0m \u001b[0mloss\u001b[0m\u001b[0;34m.\u001b[0m\u001b[0mitem\u001b[0m\u001b[0;34m(\u001b[0m\u001b[0;34m)\u001b[0m\u001b[0;34m\u001b[0m\u001b[0;34m\u001b[0m\u001b[0m\n\u001b[0m\u001b[1;32m     19\u001b[0m \u001b[0;34m\u001b[0m\u001b[0m\n\u001b[1;32m     20\u001b[0m         \u001b[0;31m# do back propagation\u001b[0m\u001b[0;34m\u001b[0m\u001b[0;34m\u001b[0m\u001b[0;34m\u001b[0m\u001b[0m\n",
      "\u001b[0;31mRuntimeError\u001b[0m: CUDA error: device-side assert triggered"
     ]
    }
   ],
   "source": [
    "####################  implement your optimizer ###################################\n",
    "## yo can use any training methods if you want (ex:lr decay, weight decay.....)\n",
    "model = ResNet([2,2,2,2], BasicBlock)\n",
    "model.to(device=device)\n",
    "lr = 0.01\n",
    "optimizer = optim.Adam(model.parameters(), lr=lr)\n",
    "# start training\n",
    "epochs = 600\n",
    "acc = 0.0\n",
    "x_axis = []\n",
    "y_axis = []\n",
    "for epoch in range(epochs):\n",
    "    #model.train()\n",
    "    train(model, all_train, optimizer, epoch)\n",
    "    accuracy = valid(model, val_data_loader)\n",
    "    x_axis.append(epoch)\n",
    "    y_axis.append(accuracy)\n",
    "    plt.plot(x_axis,y_axis,'b-')\n",
    "    if accuracy > acc:\n",
    "        acc = accuracy\n",
    "        print(\"-------------saving model--------------\")\n",
    "        # save the model\n",
    "        torch.save(model, \"model.pth\")\n",
    "plt.show()"
   ]
  },
  {
   "cell_type": "code",
   "execution_count": null,
   "metadata": {
    "scrolled": true
   },
   "outputs": [],
   "source": [
    "test_transform = transforms.Compose([transforms.Resize((224,224)),\n",
    "                                    transforms.ToTensor()\n",
    "                                    ])\n",
    "\n",
    "test_data = datasets.ImageFolder(TEST_DATA_PATH, transform = test_transform)\n",
    "test_data_loader  = data.DataLoader(test_data, batch_size = 10, num_workers = 2)\n",
    "print(test_data)"
   ]
  },
  {
   "cell_type": "code",
   "execution_count": null,
   "metadata": {},
   "outputs": [],
   "source": [
    "device = torch.device(\"cuda\" if torch.cuda.is_available() else \"cpu\")\n",
    "\n",
    "# load the model so that you don't need to train the model again\n",
    "test_model = torch.load(\"model.pth\").to(device)"
   ]
  },
  {
   "cell_type": "code",
   "execution_count": null,
   "metadata": {},
   "outputs": [],
   "source": [
    "def test(model,data_loader):\n",
    "    with torch.no_grad():\n",
    "        model.eval()\n",
    "        valid_loss = 0\n",
    "        correct = 0\n",
    "        bs = test_data_loader.batch_size\n",
    "        result = []\n",
    "        for i, (data, target) in enumerate(test_data_loader):\n",
    "            data, target = data.to(device), target.to(device)\n",
    "            output = model(data)\n",
    "        \n",
    "            pred = torch.argmax(output, axis = 1)         # get the index of the max log-probability\n",
    "        \n",
    "            arr = pred.data.cpu().numpy()\n",
    "        \n",
    "            for j in range(pred.size()[0]):\n",
    "                file_name = test_data.samples[i*bs+j][0].split('/')[-1]\n",
    "                result.append((file_name,arr[j]))\n",
    "                \n",
    "    return result"
   ]
  },
  {
   "cell_type": "code",
   "execution_count": null,
   "metadata": {
    "scrolled": true
   },
   "outputs": [],
   "source": [
    "result = test(test_model,test_data_loader)\n",
    "result"
   ]
  },
  {
   "cell_type": "markdown",
   "metadata": {},
   "source": [
    "# Write results to csv"
   ]
  },
  {
   "cell_type": "code",
   "execution_count": null,
   "metadata": {},
   "outputs": [],
   "source": [
    "df = pd.DataFrame(result, columns = ['ID','Category'])\n",
    "df.to_csv('answer.csv', index=False)"
   ]
  }
 ],
 "metadata": {
  "kernelspec": {
   "display_name": "Python 3",
   "language": "python",
   "name": "python3"
  },
  "language_info": {
   "codemirror_mode": {
    "name": "ipython",
    "version": 3
   },
   "file_extension": ".py",
   "mimetype": "text/x-python",
   "name": "python",
   "nbconvert_exporter": "python",
   "pygments_lexer": "ipython3",
   "version": "3.6.8"
  }
 },
 "nbformat": 4,
 "nbformat_minor": 2
}
